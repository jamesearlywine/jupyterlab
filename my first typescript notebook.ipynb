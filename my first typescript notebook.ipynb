{
 "cells": [
  {
   "cell_type": "code",
   "execution_count": 1,
   "id": "ee0d8837-8955-4eeb-95eb-002295737e05",
   "metadata": {},
   "outputs": [
    {
     "data": {
      "text/html": [
       "Hello <b>tslab!</b>"
      ]
     },
     "metadata": {},
     "output_type": "display_data"
    }
   ],
   "source": [
    "import * as tslab from \"tslab\";\n",
    "tslab.display.html(\"Hello <b>tslab!</b>\");\n"
   ]
  },
  {
   "cell_type": "markdown",
   "id": "89a37af3-5b46-4397-af89-4df3961373fd",
   "metadata": {},
   "source": [
    "## Hello\n",
    "This is a test\n"
   ]
  },
  {
   "cell_type": "code",
   "execution_count": 3,
   "id": "fd5dcb2c-e4ad-4e02-94df-75be316d0c78",
   "metadata": {},
   "outputs": [
    {
     "name": "stderr",
     "output_type": "stream",
     "text": [
      "1:1 - Expression expected.\n",
      "1:2 - Cannot find name 'graph_notebook_config'.\n"
     ]
    }
   ],
   "source": []
  },
  {
   "cell_type": "code",
   "execution_count": null,
   "id": "2f1ef273-6cdf-422f-b7f2-bbf075181c56",
   "metadata": {},
   "outputs": [],
   "source": []
  }
 ],
 "metadata": {
  "kernelspec": {
   "display_name": "TypeScript",
   "language": "typescript",
   "name": "tslab"
  },
  "language_info": {
   "codemirror_mode": {
    "mode": "typescript",
    "name": "javascript",
    "typescript": true
   },
   "file_extension": ".ts",
   "mimetype": "text/typescript",
   "name": "typescript",
   "version": "3.7.2"
  }
 },
 "nbformat": 4,
 "nbformat_minor": 5
}
