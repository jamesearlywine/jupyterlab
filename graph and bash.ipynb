{
 "cells": [
  {
   "cell_type": "code",
   "execution_count": 1,
   "id": "dc60ccbe-2842-4989-bff7-705ba3ad0b14",
   "metadata": {
    "tags": []
   },
   "outputs": [
    {
     "name": "stdout",
     "output_type": "stream",
     "text": [
      "The graph_notebook.magics extension is already loaded. To reload it, use:\n",
      "  %reload_ext graph_notebook.magics\n"
     ]
    }
   ],
   "source": [
    "%load_ext graph_notebook.magics\n"
   ]
  },
  {
   "cell_type": "code",
   "execution_count": 3,
   "id": "00fdbdc1-d443-42c0-a84a-3c70b51b55f8",
   "metadata": {
    "tags": []
   },
   "outputs": [
    {
     "name": "stdout",
     "output_type": "stream",
     "text": [
      "01-Neptune-Database\n",
      "02-Neptune-Analytics\n",
      "03-Neptune-ML\n",
      "04-Language-Tutorials\n",
      "About-the-Neptune-Notebook.ipynb\n",
      "Overview.ipynb\n",
      "README.md\n",
      "Untitled.ipynb\n",
      "data\n",
      "jupyter-up.sh\n",
      "my first notebook.ipynb\n",
      "my first typescript notebook.ipynb\n",
      "neo4j-data\n",
      "node_modules\n",
      "package-lock.json\n",
      "package.json\n"
     ]
    }
   ],
   "source": [
    "%%bash\n",
    "ls\n"
   ]
  },
  {
   "cell_type": "code",
   "execution_count": null,
   "id": "6dc8213f-6dd1-4a2c-804c-8cc22aae77ae",
   "metadata": {},
   "outputs": [],
   "source": []
  }
 ],
 "metadata": {
  "kernelspec": {
   "display_name": "Python 3",
   "language": "python",
   "name": "python3"
  },
  "language_info": {
   "codemirror_mode": {
    "name": "ipython",
    "version": 3
   },
   "file_extension": ".py",
   "mimetype": "text/x-python",
   "name": "python",
   "nbconvert_exporter": "python",
   "pygments_lexer": "ipython3",
   "version": "3.10.16"
  }
 },
 "nbformat": 4,
 "nbformat_minor": 5
}
