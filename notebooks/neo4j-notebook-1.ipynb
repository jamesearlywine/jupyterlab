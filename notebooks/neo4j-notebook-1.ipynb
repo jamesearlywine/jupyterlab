{
 "cells": [
  {
   "cell_type": "code",
   "execution_count": 18,
   "id": "45bb40d3-7fec-4663-9b0a-5bb33952bb5e",
   "metadata": {},
   "outputs": [
    {
     "data": {
      "application/vnd.jupyter.widget-view+json": {
       "model_id": "d7554375b90d43d7b08e670b1bc9bb73",
       "version_major": 2,
       "version_minor": 0
      },
      "text/plain": [
       "GraphWidget(layout=Layout(height='640px', width='100%'))"
      ]
     },
     "metadata": {},
     "output_type": "display_data"
    }
   ],
   "source": [
    "from yfiles_jupyter_graphs_for_neo4j import Neo4jGraphWidget\n",
    "from neo4j import GraphDatabase\n",
    "\n",
    "NEO4J_URI      = \"neo4j://localhost:7687\" \n",
    "NEO4J_USERNAME = \"neo4j\"\n",
    "NEO4J_PASSWORD = \"neo4jneo4j\"\n",
    "driver = GraphDatabase.driver(uri = NEO4J_URI, auth = (NEO4J_USERNAME, NEO4J_PASSWORD), database = 'neo4j')\n",
    "\n",
    "g = Neo4jGraphWidget(driver)\n",
    "\n",
    "query=\"\"\"\n",
    "MATCH (s)-[r]->(t) RETURN s,r,t LIMIT 25\n",
    "\"\"\"\n",
    "\n",
    "g.show_cypher(query, layout=\"interactive_organic\")"
   ]
  },
  {
   "cell_type": "code",
   "execution_count": null,
   "id": "4aebfefd-6892-4bbe-a44c-8c8d5d989cca",
   "metadata": {},
   "outputs": [],
   "source": []
  },
  {
   "cell_type": "code",
   "execution_count": 4,
   "id": "6dc8213f-6dd1-4a2c-804c-8cc22aae77ae",
   "metadata": {
    "editable": true,
    "slideshow": {
     "slide_type": ""
    },
    "tags": []
   },
   "outputs": [
    {
     "name": "stdout",
     "output_type": "stream",
     "text": [
      "Set notebook config to:\n",
      "{\n",
      "    \"host\": \"localhost\",\n",
      "    \"port\": 7687,\n",
      "    \"proxy_host\": \"\",\n",
      "    \"proxy_port\": 8182,\n",
      "    \"ssl\": false,\n",
      "    \"ssl_verify\": true,\n",
      "    \"sparql\": {\n",
      "        \"path\": \"\"\n",
      "    },\n",
      "    \"gremlin\": {\n",
      "        \"traversal_source\": \"g\",\n",
      "        \"username\": \"\",\n",
      "        \"password\": \"\",\n",
      "        \"message_serializer\": \"GraphSONMessageSerializerV3\"\n",
      "    },\n",
      "    \"neo4j\": {\n",
      "        \"username\": \"neo4j\",\n",
      "        \"password\": \"neo4jneo4j\",\n",
      "        \"auth\": true,\n",
      "        \"database\": \"neo4j\"\n",
      "    }\n",
      "}\n"
     ]
    },
    {
     "data": {
      "text/plain": [
       "<graph_notebook.configuration.generate_config.Configuration at 0x12b6b21a0>"
      ]
     },
     "execution_count": 4,
     "metadata": {},
     "output_type": "execute_result"
    }
   ],
   "source": [
    "%%graph_notebook_config\n",
    "{\n",
    "  \"host\": \"localhost\",\n",
    "  \"port\": 7687,\n",
    "  \"ssl\": false,\n",
    "  \"neo4j\": {\n",
    "    \"username\": \"neo4j\",\n",
    "    \"password\": \"neo4jneo4j\",\n",
    "    \"auth\": true,\n",
    "    \"database\": \"neo4j\"\n",
    "  }\n",
    "}"
   ]
  },
  {
   "cell_type": "code",
   "execution_count": 3,
   "id": "4c28b0cd-5358-44f5-9a2b-e5230e0791e8",
   "metadata": {},
   "outputs": [],
   "source": [
    "import graph_notebook as gn"
   ]
  },
  {
   "cell_type": "code",
   "execution_count": 6,
   "id": "4d8016ec-7896-40d9-baf1-3c322179bfac",
   "metadata": {},
   "outputs": [
    {
     "name": "stdout",
     "output_type": "stream",
     "text": [
      "4.6.2\n"
     ]
    }
   ],
   "source": [
    "%graph_notebook_version"
   ]
  },
  {
   "cell_type": "code",
   "execution_count": 21,
   "id": "5c6363ea-867a-4e16-84e3-d314f668007c",
   "metadata": {},
   "outputs": [
    {
     "data": {
      "application/vnd.jupyter.widget-view+json": {
       "model_id": "41fa990a36c14cda9f5072df6e6d2b38",
       "version_major": 2,
       "version_minor": 0
      },
      "text/plain": [
       "Tab(children=(Output(layout=Layout(max_height='600px', max_width='940px', overflow='scroll')), Output(layout=L…"
      ]
     },
     "metadata": {},
     "output_type": "display_data"
    }
   ],
   "source": [
    "%%oc bolt\n",
    "// why no visualization?\n",
    "MATCH p=(n)-[e]->()\n",
    "RETURN p"
   ]
  },
  {
   "cell_type": "code",
   "execution_count": 29,
   "id": "d1ce058b-ac08-4956-b691-3a51cf27ff90",
   "metadata": {},
   "outputs": [
    {
     "name": "stdout",
     "output_type": "stream",
     "text": [
      "Collecting py2neo\n",
      "  Downloading py2neo-2021.2.4-py2.py3-none-any.whl (177 kB)\n",
      "\u001b[2K     \u001b[90m━━━━━━━━━━━━━━━━━━━━━━━━━━━━━━━━━━━━━━━\u001b[0m \u001b[32m177.2/177.2 kB\u001b[0m \u001b[31m1.7 MB/s\u001b[0m eta \u001b[36m0:00:00\u001b[0m00:01\u001b[0m00:01\u001b[0m\n",
      "\u001b[?25hRequirement already satisfied: pygments>=2.0.0 in /Users/jearlywine/.pyenv/versions/3.10.16/lib/python3.10/site-packages (from py2neo) (2.18.0)\n",
      "Requirement already satisfied: urllib3 in /Users/jearlywine/.pyenv/versions/3.10.16/lib/python3.10/site-packages (from py2neo) (2.3.0)\n",
      "Requirement already satisfied: packaging in /Users/jearlywine/.pyenv/versions/3.10.16/lib/python3.10/site-packages (from py2neo) (24.2)\n",
      "Collecting pansi>=2020.7.3\n",
      "  Downloading pansi-2024.11.0-py2.py3-none-any.whl (26 kB)\n",
      "Collecting monotonic\n",
      "  Downloading monotonic-1.6-py2.py3-none-any.whl (8.2 kB)\n",
      "Requirement already satisfied: six>=1.15.0 in /Users/jearlywine/.pyenv/versions/3.10.16/lib/python3.10/site-packages (from py2neo) (1.17.0)\n",
      "Requirement already satisfied: certifi in /Users/jearlywine/.pyenv/versions/3.10.16/lib/python3.10/site-packages (from py2neo) (2024.12.14)\n",
      "Collecting interchange~=2021.0.4\n",
      "  Downloading interchange-2021.0.4-py2.py3-none-any.whl (28 kB)\n",
      "Requirement already satisfied: pytz in /Users/jearlywine/.pyenv/versions/3.10.16/lib/python3.10/site-packages (from interchange~=2021.0.4->py2neo) (2024.2)\n",
      "Collecting pillow\n",
      "  Downloading pillow-11.0.0-cp310-cp310-macosx_10_10_x86_64.whl (3.2 MB)\n",
      "\u001b[2K     \u001b[90m━━━━━━━━━━━━━━━━━━━━━━━━━━━━━━━━━━━━━━━━\u001b[0m \u001b[32m3.2/3.2 MB\u001b[0m \u001b[31m476.2 kB/s\u001b[0m eta \u001b[36m0:00:00\u001b[0m00:01\u001b[0m00:01\u001b[0m\n",
      "\u001b[?25hInstalling collected packages: monotonic, pillow, interchange, pansi, py2neo\n",
      "Successfully installed interchange-2021.0.4 monotonic-1.6 pansi-2024.11.0 pillow-11.0.0 py2neo-2021.2.4\n"
     ]
    },
    {
     "name": "stderr",
     "output_type": "stream",
     "text": [
      "\n",
      "\u001b[1m[\u001b[0m\u001b[34;49mnotice\u001b[0m\u001b[1;39;49m]\u001b[0m\u001b[39;49m A new release of pip is available: \u001b[0m\u001b[31;49m23.0.1\u001b[0m\u001b[39;49m -> \u001b[0m\u001b[32;49m24.3.1\u001b[0m\n",
      "\u001b[1m[\u001b[0m\u001b[34;49mnotice\u001b[0m\u001b[1;39;49m]\u001b[0m\u001b[39;49m To update, run: \u001b[0m\u001b[32;49mpip install --upgrade pip\u001b[0m\n"
     ]
    }
   ],
   "source": [
    "%%bash\n",
    "pip install py2neo"
   ]
  }
 ],
 "metadata": {
  "kernelspec": {
   "display_name": "Python 3 (ipykernel)",
   "language": "python",
   "name": "python3"
  },
  "language_info": {
   "codemirror_mode": {
    "name": "ipython",
    "version": 3
   },
   "file_extension": ".py",
   "mimetype": "text/x-python",
   "name": "python",
   "nbconvert_exporter": "python",
   "pygments_lexer": "ipython3",
   "version": "3.10.16"
  }
 },
 "nbformat": 4,
 "nbformat_minor": 5
}
