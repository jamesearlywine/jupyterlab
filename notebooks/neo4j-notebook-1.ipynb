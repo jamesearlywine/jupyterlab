{
 "cells": [
  {
   "cell_type": "code",
   "execution_count": 3,
   "id": "45bb40d3-7fec-4663-9b0a-5bb33952bb5e",
   "metadata": {},
   "outputs": [
    {
     "data": {
      "application/vnd.jupyter.widget-view+json": {
       "model_id": "72e87bb8f9904e088215af92452cc3c2",
       "version_major": 2,
       "version_minor": 0
      },
      "text/plain": [
       "GraphWidget(layout=Layout(height='640px', width='100%'))"
      ]
     },
     "metadata": {},
     "output_type": "display_data"
    }
   ],
   "source": [
    "from yfiles_jupyter_graphs_for_neo4j import Neo4jGraphWidget\n",
    "from neo4j import GraphDatabase\n",
    "\n",
    "NEO4J_URI      = \"neo4j://localhost:7687\" \n",
    "NEO4J_USERNAME = \"neo4j\"\n",
    "NEO4J_PASSWORD = \"neo4jneo4j\"\n",
    "driver = GraphDatabase.driver(uri = NEO4J_URI, auth = (NEO4J_USERNAME, NEO4J_PASSWORD), database = 'neo4j')\n",
    "\n",
    "g = Neo4jGraphWidget(driver)\n",
    "\n",
    "query=\"\"\"\n",
    "MATCH (s)-[r]->(t) RETURN s,r,t LIMIT 25\n",
    "\"\"\"\n",
    "\n",
    "## layout options: https://github.com/yWorks/yfiles-jupyter-graphs-for-neo4j\n",
    "g.show_cypher(query, layout=\"interactive_organic\")"
   ]
  },
  {
   "cell_type": "code",
   "execution_count": null,
   "id": "a62003a9-86a8-4614-a270-cfc426a581d1",
   "metadata": {},
   "outputs": [],
   "source": []
  }
 ],
 "metadata": {
  "kernelspec": {
   "display_name": "Python 3",
   "language": "python",
   "name": "python3"
  },
  "language_info": {
   "codemirror_mode": {
    "name": "ipython",
    "version": 3
   },
   "file_extension": ".py",
   "mimetype": "text/x-python",
   "name": "python",
   "nbconvert_exporter": "python",
   "pygments_lexer": "ipython3",
   "version": "3.10.16"
  }
 },
 "nbformat": 4,
 "nbformat_minor": 5
}
