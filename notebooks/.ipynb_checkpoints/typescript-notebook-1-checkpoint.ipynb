{
 "cells": [
  {
   "cell_type": "code",
   "execution_count": 1,
   "id": "ee0d8837-8955-4eeb-95eb-002295737e05",
   "metadata": {},
   "outputs": [
    {
     "data": {
      "text/html": [
       "Hello <b>tslab!!!</b>"
      ]
     },
     "metadata": {},
     "output_type": "display_data"
    }
   ],
   "source": [
    "import * as tslab from \"tslab\";\n",
    "tslab.display.html(\"Hello <b>tslab!!!</b>\");\n"
   ]
  },
  {
   "cell_type": "markdown",
   "id": "057ca513-100c-42f6-a8cb-20163976b5c7",
   "metadata": {},
   "source": [
    "## Markdown\n",
    "This is a test\n"
   ]
  },
  {
   "cell_type": "code",
   "execution_count": null,
   "id": "c8c9b193-ee58-45ad-afc1-371099b1d87f",
   "metadata": {},
   "outputs": [],
   "source": []
  }
 ],
 "metadata": {
  "kernelspec": {
   "display_name": "TypeScript",
   "language": "typescript",
   "name": "tslab"
  },
  "language_info": {
   "codemirror_mode": {
    "mode": "typescript",
    "name": "javascript",
    "typescript": true
   },
   "file_extension": ".ts",
   "mimetype": "text/typescript",
   "name": "typescript",
   "version": "3.7.2"
  }
 },
 "nbformat": 4,
 "nbformat_minor": 5
}
