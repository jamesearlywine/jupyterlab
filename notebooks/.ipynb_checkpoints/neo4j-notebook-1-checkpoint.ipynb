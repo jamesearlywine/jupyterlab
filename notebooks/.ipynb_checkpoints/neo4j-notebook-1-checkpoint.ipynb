{
 "cells": [
  {
   "cell_type": "code",
   "execution_count": null,
   "id": "45bb40d3-7fec-4663-9b0a-5bb33952bb5e",
   "metadata": {},
   "outputs": [],
   "source": [
    "from yfiles_jupyter_graphs_for_neo4j import Neo4jGraphWidget\n",
    "from neo4j import GraphDatabase\n",
    "\n",
    "NEO4J_URI      = \"neo4j://localhost:7687\" \n",
    "NEO4J_USERNAME = \"neo4j\"\n",
    "NEO4J_PASSWORD = \"neo4jneo4j\"\n",
    "driver = GraphDatabase.driver(uri = NEO4J_URI, auth = (NEO4J_USERNAME, NEO4J_PASSWORD), database = 'neo4j')\n",
    "\n",
    "g = Neo4jGraphWidget(driver)\n",
    "\n",
    "g.show_cypher(\"MATCH (s)-[r]->(t) RETURN s,r,t LIMIT 20\")"
   ]
  },
  {
   "cell_type": "code",
   "execution_count": 2,
   "id": "6dc8213f-6dd1-4a2c-804c-8cc22aae77ae",
   "metadata": {
    "editable": true,
    "slideshow": {
     "slide_type": ""
    },
    "tags": []
   },
   "outputs": [
    {
     "name": "stdout",
     "output_type": "stream",
     "text": [
      "Set notebook config to:\n",
      "{\n",
      "    \"host\": \"localhost\",\n",
      "    \"port\": 7687,\n",
      "    \"proxy_host\": \"\",\n",
      "    \"proxy_port\": 8182,\n",
      "    \"ssl\": false,\n",
      "    \"ssl_verify\": true,\n",
      "    \"sparql\": {\n",
      "        \"path\": \"\"\n",
      "    },\n",
      "    \"gremlin\": {\n",
      "        \"traversal_source\": \"g\",\n",
      "        \"username\": \"\",\n",
      "        \"password\": \"\",\n",
      "        \"message_serializer\": \"GraphSONMessageSerializerV3\"\n",
      "    },\n",
      "    \"neo4j\": {\n",
      "        \"username\": \"neo4j\",\n",
      "        \"password\": \"neo4jneo4j\",\n",
      "        \"auth\": true,\n",
      "        \"database\": \"neo4j\"\n",
      "    }\n",
      "}\n"
     ]
    },
    {
     "data": {
      "text/plain": [
       "<graph_notebook.configuration.generate_config.Configuration at 0x120a22860>"
      ]
     },
     "execution_count": 2,
     "metadata": {},
     "output_type": "execute_result"
    }
   ],
   "source": [
    "%%graph_notebook_config\n",
    "{\n",
    "  \"host\": \"localhost\",\n",
    "  \"port\": 7687,\n",
    "  \"ssl\": false,\n",
    "  \"neo4j\": {\n",
    "    \"username\": \"neo4j\",\n",
    "    \"password\": \"neo4jneo4j\",\n",
    "    \"auth\": true,\n",
    "    \"database\": \"neo4j\"\n",
    "  }\n",
    "}"
   ]
  },
  {
   "cell_type": "code",
   "execution_count": null,
   "id": "4c28b0cd-5358-44f5-9a2b-e5230e0791e8",
   "metadata": {},
   "outputs": [],
   "source": [
    "var display_var = '(\"name\")'"
   ]
  },
  {
   "cell_type": "code",
   "execution_count": 7,
   "id": "4d8016ec-7896-40d9-baf1-3c322179bfac",
   "metadata": {},
   "outputs": [
    {
     "name": "stdout",
     "output_type": "stream",
     "text": [
      "4.6.2\n"
     ]
    }
   ],
   "source": [
    "%graph_notebook_version"
   ]
  },
  {
   "cell_type": "code",
   "execution_count": 9,
   "id": "5c6363ea-867a-4e16-84e3-d314f668007c",
   "metadata": {},
   "outputs": [
    {
     "data": {
      "application/vnd.jupyter.widget-view+json": {
       "model_id": "fbe299b95f0341dea8e9e229f7916331",
       "version_major": 2,
       "version_minor": 0
      },
      "text/plain": [
       "Tab(children=(Output(layout=Layout(max_height='600px', max_width='940px', overflow='scroll')), Output(layout=L…"
      ]
     },
     "metadata": {},
     "output_type": "display_data"
    }
   ],
   "source": [
    "%%oc bolt\n",
    "MATCH (n)-[e]->()\n",
    "RETURN type(e) AS Type ,count(*) AS Count"
   ]
  },
  {
   "cell_type": "code",
   "execution_count": 21,
   "id": "e03a6a20-b1f2-481a-affb-fd36d43e174d",
   "metadata": {
    "editable": true,
    "slideshow": {
     "slide_type": ""
    },
    "tags": []
   },
   "outputs": [
    {
     "data": {
      "application/vnd.jupyter.widget-view+json": {
       "model_id": "fb69b7b1f5344524bafc802b393151cf",
       "version_major": 2,
       "version_minor": 0
      },
      "text/plain": [
       "Tab(children=(Output(layout=Layout(max_height='600px', max_width='940px', overflow='scroll')), Output(layout=L…"
      ]
     },
     "metadata": {},
     "output_type": "display_data"
    }
   ],
   "source": [
    "%%oc bolt \n",
    "MATCH p=(actor)-[relationship:ACTED_IN]->(movie) RETURN p LIMIT 25;\n"
   ]
  },
  {
   "cell_type": "code",
   "execution_count": 29,
   "id": "d1ce058b-ac08-4956-b691-3a51cf27ff90",
   "metadata": {},
   "outputs": [
    {
     "name": "stdout",
     "output_type": "stream",
     "text": [
      "Collecting py2neo\n",
      "  Downloading py2neo-2021.2.4-py2.py3-none-any.whl (177 kB)\n",
      "\u001b[2K     \u001b[90m━━━━━━━━━━━━━━━━━━━━━━━━━━━━━━━━━━━━━━━\u001b[0m \u001b[32m177.2/177.2 kB\u001b[0m \u001b[31m1.7 MB/s\u001b[0m eta \u001b[36m0:00:00\u001b[0m00:01\u001b[0m00:01\u001b[0m\n",
      "\u001b[?25hRequirement already satisfied: pygments>=2.0.0 in /Users/jearlywine/.pyenv/versions/3.10.16/lib/python3.10/site-packages (from py2neo) (2.18.0)\n",
      "Requirement already satisfied: urllib3 in /Users/jearlywine/.pyenv/versions/3.10.16/lib/python3.10/site-packages (from py2neo) (2.3.0)\n",
      "Requirement already satisfied: packaging in /Users/jearlywine/.pyenv/versions/3.10.16/lib/python3.10/site-packages (from py2neo) (24.2)\n",
      "Collecting pansi>=2020.7.3\n",
      "  Downloading pansi-2024.11.0-py2.py3-none-any.whl (26 kB)\n",
      "Collecting monotonic\n",
      "  Downloading monotonic-1.6-py2.py3-none-any.whl (8.2 kB)\n",
      "Requirement already satisfied: six>=1.15.0 in /Users/jearlywine/.pyenv/versions/3.10.16/lib/python3.10/site-packages (from py2neo) (1.17.0)\n",
      "Requirement already satisfied: certifi in /Users/jearlywine/.pyenv/versions/3.10.16/lib/python3.10/site-packages (from py2neo) (2024.12.14)\n",
      "Collecting interchange~=2021.0.4\n",
      "  Downloading interchange-2021.0.4-py2.py3-none-any.whl (28 kB)\n",
      "Requirement already satisfied: pytz in /Users/jearlywine/.pyenv/versions/3.10.16/lib/python3.10/site-packages (from interchange~=2021.0.4->py2neo) (2024.2)\n",
      "Collecting pillow\n",
      "  Downloading pillow-11.0.0-cp310-cp310-macosx_10_10_x86_64.whl (3.2 MB)\n",
      "\u001b[2K     \u001b[90m━━━━━━━━━━━━━━━━━━━━━━━━━━━━━━━━━━━━━━━━\u001b[0m \u001b[32m3.2/3.2 MB\u001b[0m \u001b[31m476.2 kB/s\u001b[0m eta \u001b[36m0:00:00\u001b[0m00:01\u001b[0m00:01\u001b[0m\n",
      "\u001b[?25hInstalling collected packages: monotonic, pillow, interchange, pansi, py2neo\n",
      "Successfully installed interchange-2021.0.4 monotonic-1.6 pansi-2024.11.0 pillow-11.0.0 py2neo-2021.2.4\n"
     ]
    },
    {
     "name": "stderr",
     "output_type": "stream",
     "text": [
      "\n",
      "\u001b[1m[\u001b[0m\u001b[34;49mnotice\u001b[0m\u001b[1;39;49m]\u001b[0m\u001b[39;49m A new release of pip is available: \u001b[0m\u001b[31;49m23.0.1\u001b[0m\u001b[39;49m -> \u001b[0m\u001b[32;49m24.3.1\u001b[0m\n",
      "\u001b[1m[\u001b[0m\u001b[34;49mnotice\u001b[0m\u001b[1;39;49m]\u001b[0m\u001b[39;49m To update, run: \u001b[0m\u001b[32;49mpip install --upgrade pip\u001b[0m\n"
     ]
    }
   ],
   "source": [
    "%%bash\n",
    "pip install py2neo"
   ]
  },
  {
   "cell_type": "code",
   "execution_count": 39,
   "id": "f80eef12-1d30-426b-ab9d-ade64806d53d",
   "metadata": {},
   "outputs": [
    {
     "name": "stdout",
     "output_type": "stream",
     "text": [
      "No of person node is 133 & No of movie node is 38\n"
     ]
    },
    {
     "ename": "NameError",
     "evalue": "name 'pd' is not defined",
     "output_type": "error",
     "traceback": [
      "\u001b[0;31m---------------------------------------------------------------------------\u001b[0m",
      "\u001b[0;31mNameError\u001b[0m                                 Traceback (most recent call last)",
      "Cell \u001b[0;32mIn[39], line 9\u001b[0m\n\u001b[1;32m      6\u001b[0m result_movies\u001b[38;5;241m=\u001b[39mgraph\u001b[38;5;241m.\u001b[39mevaluate(number_of_movie_nodes)\n\u001b[1;32m      7\u001b[0m \u001b[38;5;28mprint\u001b[39m(\u001b[38;5;124mf\u001b[39m\u001b[38;5;124m\"\u001b[39m\u001b[38;5;124mNo of person node is \u001b[39m\u001b[38;5;132;01m{\u001b[39;00mresult_persons\u001b[38;5;132;01m}\u001b[39;00m\u001b[38;5;124m & No of movie node is \u001b[39m\u001b[38;5;132;01m{\u001b[39;00mresult_movies\u001b[38;5;132;01m}\u001b[39;00m\u001b[38;5;124m\"\u001b[39m)\n\u001b[0;32m----> 9\u001b[0m df_result_count\u001b[38;5;241m=\u001b[39m\u001b[43mpd\u001b[49m\u001b[38;5;241m.\u001b[39mSeries({\u001b[38;5;124m'\u001b[39m\u001b[38;5;124mPerson\u001b[39m\u001b[38;5;124m'\u001b[39m:result_persons,\u001b[38;5;124m'\u001b[39m\u001b[38;5;124mMovie\u001b[39m\u001b[38;5;124m'\u001b[39m:result_movies})\n\u001b[1;32m     10\u001b[0m df_result_count\u001b[38;5;241m.\u001b[39mplot(kind\u001b[38;5;241m=\u001b[39m\u001b[38;5;124m'\u001b[39m\u001b[38;5;124mbar\u001b[39m\u001b[38;5;124m'\u001b[39m,color\u001b[38;5;241m=\u001b[39m[\u001b[38;5;124m'\u001b[39m\u001b[38;5;124mblue\u001b[39m\u001b[38;5;124m'\u001b[39m,\u001b[38;5;124m'\u001b[39m\u001b[38;5;124mdarkorange\u001b[39m\u001b[38;5;124m'\u001b[39m])\n\u001b[1;32m     11\u001b[0m plt\u001b[38;5;241m.\u001b[39mxlabel(\u001b[38;5;124m'\u001b[39m\u001b[38;5;124mNode Label\u001b[39m\u001b[38;5;124m'\u001b[39m)\n",
      "\u001b[0;31mNameError\u001b[0m: name 'pd' is not defined"
     ]
    }
   ],
   "source": [
    "from py2neo import Graph,Node,Relationship\n",
    "graph = Graph(\"neo4j://localhost:7687\", auth=(\"neo4j\", \"neo4jneo4j\"))\n",
    "number_of_person_nodes=\"MATCH(p:Person) RETURN Count(p)\"\n",
    "number_of_movie_nodes=\"MATCH(m:Movie) RETURN Count(m)\"\n",
    "result_persons=graph.evaluate(number_of_person_nodes)\n",
    "result_movies=graph.evaluate(number_of_movie_nodes)\n",
    "print(f\"No of person node is {result_persons} & No of movie node is {result_movies}\")\n",
    "\n",
    "df_result_count=pd.Series({'Person':result_persons,'Movie':result_movies})\n",
    "df_result_count.plot(kind='bar',color=['blue','darkorange'])\n",
    "plt.xlabel('Node Label')\n",
    "plt.ylabel('No Of Nodes')\n"
   ]
  },
  {
   "cell_type": "code",
   "execution_count": null,
   "id": "35380f6c-941d-4e8a-aa87-cf1a71209129",
   "metadata": {},
   "outputs": [],
   "source": []
  }
 ],
 "metadata": {
  "kernelspec": {
   "display_name": "Python 3 (ipykernel)",
   "language": "python",
   "name": "python3"
  },
  "language_info": {
   "codemirror_mode": {
    "name": "ipython",
    "version": 3
   },
   "file_extension": ".py",
   "mimetype": "text/x-python",
   "name": "python",
   "nbconvert_exporter": "python",
   "pygments_lexer": "ipython3",
   "version": "3.10.16"
  }
 },
 "nbformat": 4,
 "nbformat_minor": 5
}
